{
  "nbformat": 4,
  "nbformat_minor": 0,
  "metadata": {
    "colab": {
      "provenance": [],
      "authorship_tag": "ABX9TyM+GUthJyb1iLh6TbQmp5+Y",
      "include_colab_link": true
    },
    "kernelspec": {
      "name": "python3",
      "display_name": "Python 3"
    },
    "language_info": {
      "name": "python"
    }
  },
  "cells": [
    {
      "cell_type": "markdown",
      "metadata": {
        "id": "view-in-github",
        "colab_type": "text"
      },
      "source": [
        "<a href=\"https://colab.research.google.com/github/johana9369/Python-for-physicists/blob/main/EstructurasCondicionale.ipynb\" target=\"_parent\"><img src=\"https://colab.research.google.com/assets/colab-badge.svg\" alt=\"Open In Colab\"/></a>"
      ]
    },
    {
      "cell_type": "code",
      "source": [
        "# Solicitar la edad del cliente al usuario\n",
        "edad = int(input(\"Por favor, ingrese su edad: \"))\n",
        "\n",
        "# Calcular el precio de la entrada\n",
        "if edad < 4:\n",
        "    print('precio_entrada_es_de = 0')\n",
        "elif edad <= 18:\n",
        "    print('precio_entrada_es_de = 5')\n",
        "else:\n",
        "    print('precio_entrada_es_de = 10')\n",
        "\n",
        "# Mostrar el precio de la entrada al usuario\n",
        "#print(f\"El precio de su entrada es de {precio_entrada} monedas.\")"
      ],
      "metadata": {
        "colab": {
          "base_uri": "https://localhost:8080/"
        },
        "id": "kEo_SVIbpptz",
        "outputId": "f2ab1447-7337-4ce2-e638-481389da6932"
      },
      "execution_count": null,
      "outputs": [
        {
          "name": "stdout",
          "output_type": "stream",
          "text": [
            "Por favor, ingrese su edad: 5\n"
          ]
        }
      ]
    },
    {
      "cell_type": "code",
      "source": [
        "def triangulo_rectangulo(altura):\n",
        "    for i in range(1, altura + 1):\n",
        "        print('*' * i)\n",
        "\n",
        "try:\n",
        "    altura = int(input(\"Ingrese un número entero para la Altura del triángulo: \"))\n",
        "    if altura <= 0:\n",
        "        print(\"La altura debe ser un número entero positivo.\")\n",
        "    else:\n",
        "        triangulo_rectangulo(altura)\n",
        "except ValueError:\n",
        "    print(\"Por favor, ingrese un número entero válido.\")"
      ],
      "metadata": {
        "colab": {
          "base_uri": "https://localhost:8080/"
        },
        "id": "5U0kuXChdeoy",
        "outputId": "dd02a587-fa7d-40d4-f31e-273c88ab58f5"
      },
      "execution_count": null,
      "outputs": [
        {
          "output_type": "stream",
          "name": "stdout",
          "text": [
            "Ingrese un número entero para la Altura del triángulo: 2\n",
            "*\n",
            "**\n"
          ]
        }
      ]
    },
    {
      "cell_type": "code",
      "source": [
        "n = 0\n",
        "while n<3:\n",
        "  #n = n+1\n",
        "  n+= 1\n",
        "  print(n)"
      ],
      "metadata": {
        "colab": {
          "base_uri": "https://localhost:8080/"
        },
        "id": "OpqptyTWUslT",
        "outputId": "564255f4-3676-4abf-f6c0-79215c24af05"
      },
      "execution_count": null,
      "outputs": [
        {
          "output_type": "stream",
          "name": "stdout",
          "text": [
            "1\n",
            "2\n",
            "3\n"
          ]
        }
      ]
    },
    {
      "cell_type": "code",
      "source": [
        "for i in range(1,2):\n",
        "    print(i)"
      ],
      "metadata": {
        "colab": {
          "base_uri": "https://localhost:8080/"
        },
        "id": "B1G6VHDtVnTm",
        "outputId": "6543d2d9-8608-400f-dfa6-b0cc1a5cb964"
      },
      "execution_count": null,
      "outputs": [
        {
          "output_type": "stream",
          "name": "stdout",
          "text": [
            "1\n"
          ]
        }
      ]
    },
    {
      "cell_type": "code",
      "source": [
        "for i in range(0,2):\n",
        "    print(i+1)"
      ],
      "metadata": {
        "colab": {
          "base_uri": "https://localhost:8080/"
        },
        "id": "2Z4hZ53eRPlt",
        "outputId": "198a5858-cec8-464d-9c26-664646d42e31"
      },
      "execution_count": null,
      "outputs": [
        {
          "output_type": "stream",
          "name": "stdout",
          "text": [
            "1\n",
            "2\n"
          ]
        }
      ]
    },
    {
      "cell_type": "code",
      "source": [
        "#para contar de 10 en 10\n",
        "for i in range(0,100,10):\n",
        "      print(i)"
      ],
      "metadata": {
        "colab": {
          "base_uri": "https://localhost:8080/"
        },
        "id": "t-mqByNxR8k6",
        "outputId": "d98eb27a-e079-485e-b219-d558ec78b4c7"
      },
      "execution_count": null,
      "outputs": [
        {
          "output_type": "stream",
          "name": "stdout",
          "text": [
            "0\n",
            "10\n",
            "20\n",
            "30\n",
            "40\n",
            "50\n",
            "60\n",
            "70\n",
            "80\n",
            "90\n"
          ]
        }
      ]
    },
    {
      "cell_type": "markdown",
      "source": [
        "#Ejercicios\n"
      ],
      "metadata": {
        "id": "bXlHDkdnY5M3"
      }
    },
    {
      "cell_type": "code",
      "source": [],
      "metadata": {
        "id": "FeCo0QVtpx4s"
      },
      "execution_count": null,
      "outputs": []
    },
    {
      "cell_type": "code",
      "source": [
        "esta_lloviendo = True\n",
        "if esta_lloviendo:\n",
        "   print('lleva una sombrilla')\n",
        "else:\n",
        "  print('voy a comprar con normalidad')"
      ],
      "metadata": {
        "colab": {
          "base_uri": "https://localhost:8080/"
        },
        "id": "Ld5PMB4hY2EW",
        "outputId": "cad22ea8-8f52-4ca9-d20e-47ab0cab9a8f"
      },
      "execution_count": null,
      "outputs": [
        {
          "output_type": "stream",
          "name": "stdout",
          "text": [
            "lleva una sombrilla\n"
          ]
        }
      ]
    },
    {
      "cell_type": "code",
      "source": [
        "esta_lloviendo = True\n",
        "if 1>2:\n",
        "   print('lleva una sombrilla')\n",
        "else:\n",
        "  print('voy a comprar con normalidad')"
      ],
      "metadata": {
        "colab": {
          "base_uri": "https://localhost:8080/"
        },
        "id": "7vmIXBR7aaNQ",
        "outputId": "1a7fcd9f-0700-46cd-9509-e1f15f8ca833"
      },
      "execution_count": null,
      "outputs": [
        {
          "output_type": "stream",
          "name": "stdout",
          "text": [
            "voy a comprar con normalidad\n"
          ]
        }
      ]
    },
    {
      "cell_type": "markdown",
      "source": [
        "#Ejercicio Bucle"
      ],
      "metadata": {
        "id": "dSE9TT9oa9LM"
      }
    },
    {
      "cell_type": "code",
      "source": [
        "numero_de_vidas = 3\n",
        "while numero_de_vidas > 0:\n",
        "   print(numero_de_vidas)\n",
        "   numero_de_vidas -= 1\n",
        "\n"
      ],
      "metadata": {
        "colab": {
          "base_uri": "https://localhost:8080/"
        },
        "id": "UDQPXfXJbF2U",
        "outputId": "4dfc5058-3891-4ee2-a998-0c0afd8ff640"
      },
      "execution_count": null,
      "outputs": [
        {
          "output_type": "stream",
          "name": "stdout",
          "text": [
            "3\n",
            "2\n",
            "1\n"
          ]
        }
      ]
    },
    {
      "cell_type": "code",
      "source": [
        "numero_de_vidas = 3\n",
        "for i in range(numero_de_vidas):\n",
        "    print(numero_de_vidas)\n",
        "    numero_de_vidas-=1\n"
      ],
      "metadata": {
        "colab": {
          "base_uri": "https://localhost:8080/"
        },
        "id": "Nc9x2aczcmNi",
        "outputId": "35ff8cd5-6275-4480-933f-2306eaa6531d"
      },
      "execution_count": null,
      "outputs": [
        {
          "output_type": "stream",
          "name": "stdout",
          "text": [
            "3\n",
            "2\n",
            "1\n"
          ]
        }
      ]
    },
    {
      "cell_type": "code",
      "source": [],
      "metadata": {
        "id": "29zIAuLKeVs1"
      },
      "execution_count": null,
      "outputs": []
    },
    {
      "cell_type": "code",
      "source": [
        "lista = [1,2,3,4]\n",
        "\n",
        "for i in lista:\n",
        "  print(i)"
      ],
      "metadata": {
        "colab": {
          "base_uri": "https://localhost:8080/"
        },
        "id": "WMmIbEeHdFix",
        "outputId": "627e2306-e1a4-4cca-be0e-57dcbd413463"
      },
      "execution_count": null,
      "outputs": [
        {
          "output_type": "stream",
          "name": "stdout",
          "text": [
            "1\n",
            "2\n",
            "3\n",
            "4\n"
          ]
        }
      ]
    },
    {
      "cell_type": "markdown",
      "source": [],
      "metadata": {
        "id": "tOxmKjwwuJkF"
      }
    },
    {
      "cell_type": "markdown",
      "source": [
        "==  Prueba si 2 valores son iguales. ej: 3 == 3"
      ],
      "metadata": {
        "id": "qiF4xTO3D7ZL"
      }
    },
    {
      "cell_type": "code",
      "source": [
        "5==6"
      ],
      "metadata": {
        "colab": {
          "base_uri": "https://localhost:8080/"
        },
        "id": "EZncq4BeD-B3",
        "outputId": "d0ec64b3-7523-4214-98fd-956423d1871e"
      },
      "execution_count": null,
      "outputs": [
        {
          "output_type": "execute_result",
          "data": {
            "text/plain": [
              "False"
            ]
          },
          "metadata": {},
          "execution_count": 10
        }
      ]
    },
    {
      "cell_type": "markdown",
      "source": [
        "!=  Prueba que 2 valores no sean iguales. ej: 2 != 3"
      ],
      "metadata": {
        "id": "skJm79mbEO7x"
      }
    },
    {
      "cell_type": "code",
      "source": [
        "2 != 3"
      ],
      "metadata": {
        "colab": {
          "base_uri": "https://localhost:8080/"
        },
        "id": "M8QQB8s0ESUx",
        "outputId": "af4be870-9e9c-41a3-9197-7e901f00f01c"
      },
      "execution_count": null,
      "outputs": [
        {
          "output_type": "execute_result",
          "data": {
            "text/plain": [
              "True"
            ]
          },
          "metadata": {},
          "execution_count": 13
        }
      ]
    },
    {
      "cell_type": "markdown",
      "source": [
        "<\n",
        "Prueba si el valor de la izquierda es menor que al de la derecha . ej: 2 < 3\n"
      ],
      "metadata": {
        "id": "tq2rzDcREkrP"
      }
    },
    {
      "cell_type": "code",
      "source": [
        "32 < 3"
      ],
      "metadata": {
        "colab": {
          "base_uri": "https://localhost:8080/"
        },
        "id": "lyLxrebPG5GD",
        "outputId": "00908057-2083-47b7-88b1-a4e7fdfed6ff"
      },
      "execution_count": null,
      "outputs": [
        {
          "output_type": "execute_result",
          "data": {
            "text/plain": [
              "False"
            ]
          },
          "metadata": {},
          "execution_count": 15
        }
      ]
    },
    {
      "cell_type": "markdown",
      "source": [
        ">\n",
        "Prueba si el valor de la izquierda es mayor que al de la derecha. ej: 3 > 2\n"
      ],
      "metadata": {
        "id": "waht-plWH2SC"
      }
    },
    {
      "cell_type": "code",
      "source": [
        "3 > 23"
      ],
      "metadata": {
        "colab": {
          "base_uri": "https://localhost:8080/"
        },
        "id": "eCH1-gZ8H4wu",
        "outputId": "de46e903-6561-4960-9454-178a7d58805f"
      },
      "execution_count": null,
      "outputs": [
        {
          "output_type": "execute_result",
          "data": {
            "text/plain": [
              "False"
            ]
          },
          "metadata": {},
          "execution_count": 17
        }
      ]
    },
    {
      "cell_type": "markdown",
      "source": [
        "<=\n",
        "Prueba si el valor de la izquierda es menor o igual que al de la derecha. ej: 3 <= 4"
      ],
      "metadata": {
        "id": "l3bP7fV1H7Ci"
      }
    },
    {
      "cell_type": "code",
      "source": [
        " 85 <= 45"
      ],
      "metadata": {
        "colab": {
          "base_uri": "https://localhost:8080/"
        },
        "id": "iZAdDHfQIjRa",
        "outputId": "66d4c62d-f570-45c3-ce62-664d766a9225"
      },
      "execution_count": null,
      "outputs": [
        {
          "output_type": "execute_result",
          "data": {
            "text/plain": [
              "False"
            ]
          },
          "metadata": {},
          "execution_count": 20
        }
      ]
    },
    {
      "cell_type": "markdown",
      "source": [
        ">=  Prueba si el valor de la izquierda es mayor o igual que al de la derecha. ej: 3 >= 2"
      ],
      "metadata": {
        "id": "mX9hqbhCI8gT"
      }
    },
    {
      "cell_type": "code",
      "source": [
        "3 >= 2"
      ],
      "metadata": {
        "colab": {
          "base_uri": "https://localhost:8080/"
        },
        "id": "7ftAT3ACJDda",
        "outputId": "9a44d682-0401-49d0-b152-f7b911c1c224"
      },
      "execution_count": null,
      "outputs": [
        {
          "output_type": "execute_result",
          "data": {
            "text/plain": [
              "True"
            ]
          },
          "metadata": {},
          "execution_count": 22
        }
      ]
    },
    {
      "cell_type": "markdown",
      "source": [
        "And\n",
        "Devuelve True (Verdad) si izquierda y derecha son True. Ej: (4 < 5) and (6 > 5)\n"
      ],
      "metadata": {
        "id": "ko0IXJJsWBE-"
      }
    },
    {
      "cell_type": "code",
      "source": [
        "(4 < 5) and (6 > 5)"
      ],
      "metadata": {
        "colab": {
          "base_uri": "https://localhost:8080/"
        },
        "id": "NhbKyPo-WFYT",
        "outputId": "2d8b1d9c-7b77-4176-8b8c-a0543ba970d2"
      },
      "execution_count": null,
      "outputs": [
        {
          "output_type": "execute_result",
          "data": {
            "text/plain": [
              "True"
            ]
          },
          "metadata": {},
          "execution_count": 2
        }
      ]
    },
    {
      "cell_type": "markdown",
      "source": [
        "Or\n",
        "Devuelve True (Verdad) si izquierda o derecha son True. Ej: (4 < 5) or (6 > 5)"
      ],
      "metadata": {
        "id": "Qpo5QmyD5UQl"
      }
    },
    {
      "cell_type": "code",
      "source": [
        "(10 < 5) or (6 > 5)"
      ],
      "metadata": {
        "colab": {
          "base_uri": "https://localhost:8080/"
        },
        "id": "w3ONuWeh5g6U",
        "outputId": "1271445e-b3d6-49d9-885d-3d5dafd8e9de"
      },
      "execution_count": null,
      "outputs": [
        {
          "output_type": "execute_result",
          "data": {
            "text/plain": [
              "True"
            ]
          },
          "metadata": {},
          "execution_count": 4
        }
      ]
    },
    {
      "cell_type": "markdown",
      "source": [
        "Not Devuelve True si el valor a evaluar es False (Falso). Ej: not 6 < 3"
      ],
      "metadata": {
        "id": "Hcop4Jcb6X_O"
      }
    },
    {
      "cell_type": "code",
      "source": [
        " not 6 < 3"
      ],
      "metadata": {
        "colab": {
          "base_uri": "https://localhost:8080/"
        },
        "id": "xr29k7WZ7DOb",
        "outputId": "eb191327-2e11-4a92-e91b-8c679edcf210"
      },
      "execution_count": null,
      "outputs": [
        {
          "output_type": "execute_result",
          "data": {
            "text/plain": [
              "True"
            ]
          },
          "metadata": {},
          "execution_count": 6
        }
      ]
    },
    {
      "cell_type": "markdown",
      "source": [
        "ord o chr denotan el numero ascii o codigo ascii"
      ],
      "metadata": {
        "id": "wZSAUr878d9h"
      }
    },
    {
      "cell_type": "code",
      "source": [
        "ord(\"A\")"
      ],
      "metadata": {
        "colab": {
          "base_uri": "https://localhost:8080/"
        },
        "id": "hNqdUh1p7Ri0",
        "outputId": "5a342743-54db-42b0-a424-faaaa81e3371"
      },
      "execution_count": null,
      "outputs": [
        {
          "output_type": "execute_result",
          "data": {
            "text/plain": [
              "65"
            ]
          },
          "metadata": {},
          "execution_count": 7
        }
      ]
    },
    {
      "cell_type": "code",
      "source": [],
      "metadata": {
        "id": "aZrWYUtRHwLy"
      },
      "execution_count": null,
      "outputs": []
    },
    {
      "cell_type": "code",
      "source": [
        "chr(65)"
      ],
      "metadata": {
        "colab": {
          "base_uri": "https://localhost:8080/",
          "height": 42
        },
        "id": "Mq5MhsOl7zGy",
        "outputId": "e8d9a231-c458-443e-a075-eef7e845dca2"
      },
      "execution_count": null,
      "outputs": [
        {
          "output_type": "execute_result",
          "data": {
            "text/plain": [
              "'A'"
            ],
            "application/vnd.google.colaboratory.intrinsic+json": {
              "type": "string"
            }
          },
          "metadata": {},
          "execution_count": 12
        }
      ]
    },
    {
      "cell_type": "code",
      "source": [
        "ascii('B')"
      ],
      "metadata": {
        "colab": {
          "base_uri": "https://localhost:8080/",
          "height": 42
        },
        "id": "7GvbuIKp68Ru",
        "outputId": "98d3a4cf-6605-4cca-c11a-7e779675ddff"
      },
      "execution_count": null,
      "outputs": [
        {
          "output_type": "execute_result",
          "data": {
            "text/plain": [
              "\"'B'\""
            ],
            "application/vnd.google.colaboratory.intrinsic+json": {
              "type": "string"
            }
          },
          "metadata": {},
          "execution_count": 5
        }
      ]
    },
    {
      "cell_type": "markdown",
      "source": [
        "# If statement\n",
        "en su forma mas basica se ve como:\n",
        "```\n",
        "if <condición>:\n",
        "    # código si la condición se cumple\n",
        "    print(\"condición cumplida\")\n",
        "```\n",
        "\n",
        "**Nota**: El código debe estar identado para ser considerado por el IF\n",
        "\n",
        "Ejemplo"
      ],
      "metadata": {
        "id": "mX2L6ZsMH1IS"
      }
    },
    {
      "cell_type": "code",
      "source": [
        "# ingresar un número e imprimir un mensaje si es negativo."
      ],
      "metadata": {
        "id": "ZZFYozEEH7Tm"
      },
      "execution_count": null,
      "outputs": []
    },
    {
      "cell_type": "code",
      "source": [
        "n = int(input())\n",
        "if n > 0:\n",
        "  print(\"es positivo\")\n",
        "\n"
      ],
      "metadata": {
        "colab": {
          "base_uri": "https://localhost:8080/"
        },
        "id": "03tzw3FqhKfx",
        "outputId": "8deaeadc-625f-4301-f71e-3ccebc2af73b"
      },
      "execution_count": null,
      "outputs": [
        {
          "output_type": "stream",
          "name": "stdout",
          "text": [
            "2\n",
            "es positivo\n"
          ]
        }
      ]
    },
    {
      "cell_type": "markdown",
      "source": [
        "### Uso de la sentencia else\n",
        "En el caso de que querramos indicar que imprimir o que parte de código ejecutar cuando la condición no se cumple, podemos utilizar *else*"
      ],
      "metadata": {
        "id": "rYvFUo66nM9M"
      }
    },
    {
      "cell_type": "code",
      "source": [
        "num = 3\n",
        "if num < 0:\n",
        "    print(\"el numero es negativo\")\n",
        "else:\n",
        "    print(\"el numero es positivo\")\n"
      ],
      "metadata": {
        "colab": {
          "base_uri": "https://localhost:8080/"
        },
        "id": "NCymT4oYnOOu",
        "outputId": "d04d1f4e-c398-45f2-f0a4-5880f76eedbd"
      },
      "execution_count": null,
      "outputs": [
        {
          "output_type": "stream",
          "name": "stdout",
          "text": [
            "el numero es positivo\n"
          ]
        }
      ]
    },
    {
      "cell_type": "markdown",
      "source": [
        "### Uso de la sentencia elif\n",
        "\n",
        "En algunos casos hay varias condiciones que queremos probar si es que la previa condición no es verdad.\n",
        "\n",
        "\n",
        "Este caso es conocido como **el escenario else-if**\n",
        "\n",
        "y este escenario es soportado por python atravez de la sentencia **elif**"
      ],
      "metadata": {
        "id": "HpejeCYppmTx"
      }
    },
    {
      "cell_type": "code",
      "source": [
        "#int sirve para crear una entrada en este caso el numero a ingresar\n",
        "num = int(input('ingrese un numero'))\n",
        "if num < 0:\n",
        "    print('es valor negativo.')\n",
        "elif num == 0:\n",
        "    print('el valor es cero')\n",
        "else:\n",
        "    print('el numero es positivo')\n"
      ],
      "metadata": {
        "colab": {
          "base_uri": "https://localhost:8080/"
        },
        "id": "vWNb5S5ppnhh",
        "outputId": "764ed197-d40d-4500-8c88-ad1e6d3835cf"
      },
      "execution_count": null,
      "outputs": [
        {
          "output_type": "stream",
          "name": "stdout",
          "text": [
            "ingrese un numero0\n",
            "el valor es cero\n"
          ]
        }
      ]
    },
    {
      "cell_type": "markdown",
      "source": [
        "#Ejemplo\n"
      ],
      "metadata": {
        "id": "SwbkCWMGv4nW"
      }
    },
    {
      "cell_type": "code",
      "source": [
        "# dados nuestros ahorros, queremos saber que podemos comprar\n",
        "\n",
        "ahorros = int(input('Ingrese valor de ahorros: ')) # cantidad en USD\n",
        "\n",
        "if ahorros >= 1000:\n",
        "    # ahorros es mayor igual que 1000\n",
        "    print(\"Felicidades!, puedes comprarte un Ipad\")\n",
        "elif ahorros < 1000:\n",
        "    # 500 < ahorros < 1000\n",
        "    # los ahorros son mas de 500 pero menores o 1000\n",
        "    print(\"Puedes comprarte un iphone 12\")\n",
        "elif ahorros > 500:\n",
        "    # 10 < ahorros < 500\n",
        "    # los ahorros son menos de 501\n",
        "    print(\"Puedes comprar un nintendo switch :D\")\n",
        "else:\n",
        "    # los ahorros son menos de 10\n",
        "    print(\"Lo bueno es que tenemos salud :3 \")"
      ],
      "metadata": {
        "colab": {
          "base_uri": "https://localhost:8080/"
        },
        "id": "edyYjWHxv7gX",
        "outputId": "9b26a91c-b153-46c6-d29d-28f2687e43e5"
      },
      "execution_count": null,
      "outputs": [
        {
          "output_type": "stream",
          "name": "stdout",
          "text": [
            "Ingrese valor de ahorros: 100\n",
            "Puedes comprarte un iphone 12\n"
          ]
        }
      ]
    },
    {
      "cell_type": "markdown",
      "source": [
        "Otro posible escenario es tener un if dentro de otro if\n",
        "\n",
        "por ejemplo"
      ],
      "metadata": {
        "id": "TxvOCgK912Z-"
      }
    },
    {
      "cell_type": "code",
      "source": [
        "esta_nevando = True\n",
        "temperature =8\n",
        "if temperature < 0:\n",
        "    print('hace frio')\n",
        "    if esta_nevando:\n",
        "        print('nos abrigaremos e iremos a hacer un muñeco de nieve')\n",
        "elif temperature < 14:\n",
        "    print('no esta haciendo tanto frio')\n",
        "\n",
        "else:\n",
        "    print('es hora de tomar un refresco')"
      ],
      "metadata": {
        "colab": {
          "base_uri": "https://localhost:8080/"
        },
        "id": "3nsFxUOE13FN",
        "outputId": "ecd4279b-ed5f-4485-bd71-b7bc05266e63"
      },
      "execution_count": null,
      "outputs": [
        {
          "output_type": "stream",
          "name": "stdout",
          "text": [
            "no esta haciendo tanto frio\n"
          ]
        }
      ]
    },
    {
      "cell_type": "markdown",
      "source": [],
      "metadata": {
        "id": "k2zi0BcpJFCE"
      }
    },
    {
      "cell_type": "code",
      "source": [
        "# Una variable puede tomar cualquier valor de cualquier tipo\n",
        "a = None\n",
        "print(a)\n",
        "a = 13\n",
        "print(a)\n",
        "a = \"Patito\"\n",
        "print(a)"
      ],
      "metadata": {
        "colab": {
          "base_uri": "https://localhost:8080/"
        },
        "id": "cOkhQoTbJS2H",
        "outputId": "faa8bcc4-abd8-45ac-c284-b09bf0ae0ae4"
      },
      "execution_count": null,
      "outputs": [
        {
          "output_type": "stream",
          "name": "stdout",
          "text": [
            "None\n",
            "13\n",
            "Patito\n"
          ]
        }
      ]
    },
    {
      "cell_type": "code",
      "source": [],
      "metadata": {
        "id": "g-FcUfaMLx-w"
      },
      "execution_count": null,
      "outputs": []
    },
    {
      "cell_type": "code",
      "source": [
        "edad = int(input('ingrese su edad'))\n",
        "status = None\n",
        "if (edad > 12) and (edad < 20):\n",
        "    status = \"Es un Adolescente\"\n",
        "else:\n",
        "    status = \"No es un Adolescente\"\n",
        "print(status)"
      ],
      "metadata": {
        "colab": {
          "base_uri": "https://localhost:8080/"
        },
        "id": "mD68bTO4JVS2",
        "outputId": "d7c53293-e3aa-4675-88f5-1c51651cbb48"
      },
      "execution_count": null,
      "outputs": [
        {
          "output_type": "stream",
          "name": "stdout",
          "text": [
            "ingrese su edad27\n",
            "No es un Adolescente\n"
          ]
        }
      ]
    },
    {
      "cell_type": "code",
      "source": [
        "edad = int(input('ingrese su edad: '))\n",
        "status = None\n",
        "if(edad>12) and (edad<20):\n",
        "    status = \"es adolecente\"\n",
        "else:\n",
        "    status = \"no es adolecente\"\n",
        "print(status)\n"
      ],
      "metadata": {
        "colab": {
          "base_uri": "https://localhost:8080/"
        },
        "id": "dX8uq0X9JwhG",
        "outputId": "32e501d1-65b2-4065-82f0-a8e0b84c227f"
      },
      "execution_count": null,
      "outputs": [
        {
          "output_type": "stream",
          "name": "stdout",
          "text": [
            "ingrese su edad: 15\n",
            "es adolecente\n"
          ]
        }
      ]
    },
    {
      "cell_type": "code",
      "source": [
        "edad = 30\n",
        "status = \"Adolescente\" if (edad > 12) and (edad < 20) else \"No Adolescente\"\n",
        "print(status)"
      ],
      "metadata": {
        "id": "O3oKjt1rLz3a",
        "outputId": "54533353-7488-4b9a-8676-5701c31e13fa",
        "colab": {
          "base_uri": "https://localhost:8080/"
        }
      },
      "execution_count": null,
      "outputs": [
        {
          "output_type": "stream",
          "name": "stdout",
          "text": [
            "No Adolescente\n"
          ]
        }
      ]
    }
  ]
}